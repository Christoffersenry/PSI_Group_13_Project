{
 "cells": [
  {
   "cell_type": "markdown",
   "id": "04d00338",
   "metadata": {},
   "source": [
    "<h3 style=\"color:#fc034e;\">Problem Solving for Industry - CA</h3>"
   ]
  },
  {
   "cell_type": "markdown",
   "id": "56420c50",
   "metadata": {},
   "source": [
    "<p style=\"color:#828282;\">BSc in Computing in IT - Sept 2022 cohort<br>\n",
    "Problem Solving for Industry<br>\n",
    "Capstone Group Project<br>\n",
    "19th May 2023 (23:59 Irish Time)<br></p>\n"
   ]
  },
  {
   "cell_type": "code",
   "execution_count": 1,
   "id": "aa3b1707",
   "metadata": {},
   "outputs": [],
   "source": [
    "import numpy as np\n",
    "import pandas as pd\n",
    "from ydata_profiling import ProfileReport\n",
    "import matplotlib.pyplot as plt\n",
    "import seaborn as sns\n"
   ]
  },
  {
   "cell_type": "markdown",
   "id": "6736cd5e",
   "metadata": {},
   "source": [
    "<h4 style=\"color:#fc034e;\">Attribute Information:</h4>\n",
    "<p>\n",
    "Attribute 1: (qualitative)<br>\n",
    "Status of existing checking account<br>\n",
    "A11 : ... < 0 DM<br>\n",
    "A12 : 0 <= ... < 200 DM<br>\n",
    "A13 : ... >= 200 DM / salary assignments for at least 1 year<br>\n",
    "A14 : no checking account<br><br>\n",
    "\n",
    "Attribute 2: (numerical)<br>\n",
    "Duration in month<br><br>\n",
    "\n",
    "Attribute 3: (qualitative)<br>\n",
    "Credit history<br>\n",
    "A30 : no credits taken/ all credits paid back duly<br>\n",
    "A31 : all credits at this bank paid back duly<br>\n",
    "A32 : existing credits paid back duly till now<br>\n",
    "A33 : delay in paying off in the past<br>\n",
    "A34 : critical account/ other credits existing (not at this bank)<br><br>\n",
    "\n",
    "Attribute 4: (qualitative)<br>\n",
    "Purpose<br>\n",
    "A40 : car (new)<br>\n",
    "A41 : car (used)<br>\n",
    "A42 : furniture/equipment<br>\n",
    "A43 : radio/television<br>\n",
    "A44 : domestic appliances<br>\n",
    "A45 : repairs<br>\n",
    "A46 : education<br>\n",
    "A47 : (vacation - does not exist?)<br>\n",
    "A48 : retraining<br>\n",
    "A49 : business<br>\n",
    "A410 : others<br>\n",
    "\n",
    "Attribute 5: (numerical)<br>\n",
    "Credit amount<br><br>\n",
    "\n",
    "Attibute 6: (qualitative)<br>\n",
    "Savings account/bonds<br>\n",
    "A61 : ... < 100 DM <br>\n",
    "A62 : 100 <= ... < 500 DM <br>\n",
    "A63 : 500 <= ... < 1000 DM <br>\n",
    "A64 : .. >= 1000 DM<br>\n",
    "A65 : unknown/ no savings account<br><br>\n",
    "\n",
    "Attribute 7: (qualitative)<br>\n",
    "Present employment since<br>\n",
    "A71 : unemployed<br>\n",
    "A72 : ... < 1 year <br>\n",
    "A73 : 1 <= ... < 4 years <br>\n",
    "A74 : 4 <= ... < 7 years <br>\n",
    "A75 : .. >= 7 years<br>\n",
    "\n",
    "Attribute 8: (numerical)<br>\n",
    "Installment rate in percentage of disposable income<br><br>\n",
    "\n",
    "Attribute 9: (qualitative)<br>\n",
    "Personal status and sex<br>\n",
    "A91 : male : divorced/separated<br>\n",
    "A92 : female : divorced/separated/married<br>\n",
    "A93 : male : single<br>\n",
    "A94 : male : married/widowed<br>\n",
    "A95 : female : single<br><br>\n",
    "\n",
    "Attribute 10: (qualitative)<br>\n",
    "Other debtors / guarantors<br>\n",
    "A101 : none<br>\n",
    "A102 : co-applicant<br>\n",
    "A103 : guarantor<br><br>\n",
    "\n",
    "Attribute 11: (numerical)<br>\n",
    "Present residence since<br><br>\n",
    "\n",
    "Attribute 12: (qualitative)<br>\n",
    "Property<br>\n",
    "A121 : real estate<br>\n",
    "A122 : if not A121 : building society savings agreement/ life insurance<br>\n",
    "A123 : if not A121/A122 : car or other, not in attribute 6<br>\n",
    "A124 : unknown / no property<br><br>\n",
    "\n",
    "Attribute 13: (numerical)<br>\n",
    "Age in years<br><br>\n",
    "\n",
    "Attribute 14: (qualitative)<br>\n",
    "Other installment plans<br>\n",
    "A141 : bank<br>\n",
    "A142 : stores<br>\n",
    "A143 : none<br><br>\n",
    "\n",
    "Attribute 15: (qualitative)<br>\n",
    "Housing<br>\n",
    "A151 : rent<br>\n",
    "A152 : own<br>\n",
    "A153 : for free<br>\n",
    "\n",
    "Attribute 16: (numerical)<br>\n",
    "Number of existing credits at this bank<br>\n",
    "\n",
    "Attribute 17: (qualitative)<br>\n",
    "Job<br>\n",
    "A171 : unemployed/ unskilled - non-resident<br>\n",
    "A172 : unskilled - resident<br>\n",
    "A173 : skilled employee / official<br>\n",
    "A174 : management/ self-employed/<br>\n",
    "highly qualified employee/ officer<br><br>\n",
    "\n",
    "Attribute 18: (numerical)<br>\n",
    "Number of people being liable to provide maintenance for<br><br>\n",
    "\n",
    "Attribute 19: (qualitative)<br>\n",
    "Telephone<br>\n",
    "A191 : none<br>\n",
    "A192 : yes, registered under the customers name<br><br>\n",
    "\n",
    "Attribute 20: (qualitative)<br><br>\n",
    "foreign worker<br>\n",
    "A201 : yes<br>\n",
    "A202 : no<br><br>\n",
    "Source: [UCI - Center for Machine Learning and Intelligent Systems](<https://archive.ics.uci.edu/ml/datasets/statlog+(german+credit+data)>)\n",
    "\n",
    "</p>\n"
   ]
  },
  {
   "cell_type": "code",
   "execution_count": 2,
   "id": "1f27a970",
   "metadata": {},
   "outputs": [],
   "source": [
    "df_german = pd.read_excel('german-formatted.xlsx')"
   ]
  },
  {
   "cell_type": "code",
   "execution_count": 3,
   "id": "1692d6a6",
   "metadata": {},
   "outputs": [
    {
     "data": {
      "text/html": [
       "<div>\n",
       "<style scoped>\n",
       "    .dataframe tbody tr th:only-of-type {\n",
       "        vertical-align: middle;\n",
       "    }\n",
       "\n",
       "    .dataframe tbody tr th {\n",
       "        vertical-align: top;\n",
       "    }\n",
       "\n",
       "    .dataframe thead th {\n",
       "        text-align: right;\n",
       "    }\n",
       "</style>\n",
       "<table border=\"1\" class=\"dataframe\">\n",
       "  <thead>\n",
       "    <tr style=\"text-align: right;\">\n",
       "      <th></th>\n",
       "      <th>Column1</th>\n",
       "      <th>Column2</th>\n",
       "      <th>Column3</th>\n",
       "      <th>Column4</th>\n",
       "      <th>Column5</th>\n",
       "      <th>Column6</th>\n",
       "      <th>Column7</th>\n",
       "      <th>Column8</th>\n",
       "      <th>Column9</th>\n",
       "      <th>Column10</th>\n",
       "      <th>...</th>\n",
       "      <th>Column12</th>\n",
       "      <th>Column13</th>\n",
       "      <th>Column14</th>\n",
       "      <th>Column15</th>\n",
       "      <th>Column16</th>\n",
       "      <th>Column17</th>\n",
       "      <th>Column18</th>\n",
       "      <th>Column19</th>\n",
       "      <th>Column20</th>\n",
       "      <th>Column21</th>\n",
       "    </tr>\n",
       "  </thead>\n",
       "  <tbody>\n",
       "    <tr>\n",
       "      <th>0</th>\n",
       "      <td>A11</td>\n",
       "      <td>6</td>\n",
       "      <td>A34</td>\n",
       "      <td>A43</td>\n",
       "      <td>1169</td>\n",
       "      <td>A65</td>\n",
       "      <td>A75</td>\n",
       "      <td>4</td>\n",
       "      <td>A93</td>\n",
       "      <td>A101</td>\n",
       "      <td>...</td>\n",
       "      <td>A121</td>\n",
       "      <td>67</td>\n",
       "      <td>A143</td>\n",
       "      <td>A152</td>\n",
       "      <td>2</td>\n",
       "      <td>A173</td>\n",
       "      <td>1</td>\n",
       "      <td>A192</td>\n",
       "      <td>A201</td>\n",
       "      <td>1</td>\n",
       "    </tr>\n",
       "    <tr>\n",
       "      <th>1</th>\n",
       "      <td>A12</td>\n",
       "      <td>48</td>\n",
       "      <td>A32</td>\n",
       "      <td>A43</td>\n",
       "      <td>5951</td>\n",
       "      <td>A61</td>\n",
       "      <td>A73</td>\n",
       "      <td>2</td>\n",
       "      <td>A92</td>\n",
       "      <td>A101</td>\n",
       "      <td>...</td>\n",
       "      <td>A121</td>\n",
       "      <td>22</td>\n",
       "      <td>A143</td>\n",
       "      <td>A152</td>\n",
       "      <td>1</td>\n",
       "      <td>A173</td>\n",
       "      <td>1</td>\n",
       "      <td>A191</td>\n",
       "      <td>A201</td>\n",
       "      <td>2</td>\n",
       "    </tr>\n",
       "    <tr>\n",
       "      <th>2</th>\n",
       "      <td>A14</td>\n",
       "      <td>12</td>\n",
       "      <td>A34</td>\n",
       "      <td>A46</td>\n",
       "      <td>2096</td>\n",
       "      <td>A61</td>\n",
       "      <td>A74</td>\n",
       "      <td>2</td>\n",
       "      <td>A93</td>\n",
       "      <td>A101</td>\n",
       "      <td>...</td>\n",
       "      <td>A121</td>\n",
       "      <td>49</td>\n",
       "      <td>A143</td>\n",
       "      <td>A152</td>\n",
       "      <td>1</td>\n",
       "      <td>A172</td>\n",
       "      <td>2</td>\n",
       "      <td>A191</td>\n",
       "      <td>A201</td>\n",
       "      <td>1</td>\n",
       "    </tr>\n",
       "  </tbody>\n",
       "</table>\n",
       "<p>3 rows × 21 columns</p>\n",
       "</div>"
      ],
      "text/plain": [
       "  Column1  Column2 Column3 Column4  Column5 Column6 Column7  Column8 Column9  \\\n",
       "0     A11        6     A34     A43     1169     A65     A75        4     A93   \n",
       "1     A12       48     A32     A43     5951     A61     A73        2     A92   \n",
       "2     A14       12     A34     A46     2096     A61     A74        2     A93   \n",
       "\n",
       "  Column10  ...  Column12 Column13  Column14 Column15 Column16  Column17  \\\n",
       "0     A101  ...      A121       67      A143     A152        2      A173   \n",
       "1     A101  ...      A121       22      A143     A152        1      A173   \n",
       "2     A101  ...      A121       49      A143     A152        1      A172   \n",
       "\n",
       "  Column18  Column19 Column20 Column21  \n",
       "0        1      A192     A201        1  \n",
       "1        1      A191     A201        2  \n",
       "2        2      A191     A201        1  \n",
       "\n",
       "[3 rows x 21 columns]"
      ]
     },
     "execution_count": 3,
     "metadata": {},
     "output_type": "execute_result"
    }
   ],
   "source": [
    "df_german.head(3)"
   ]
  },
  {
   "cell_type": "code",
   "execution_count": 4,
   "id": "21925bac",
   "metadata": {},
   "outputs": [],
   "source": [
    "new_names = {'Column1': 'Status Existing Checking Account', 'Column2': 'Duration in month', 'Column3': 'Credit History', 'Column4': 'Purpose', 'Column5': 'Credit_amount', 'Column6': 'Savings account/bonds', 'Column7': 'Present Employment Since', 'Column8': 'Installment rate in percentage of disposable income', 'Column9': 'Personal status and sex', 'Column10': 'Other debtors/guarantors',\n",
    "             'Column11': 'Present residence since', 'Column12': 'Property', 'Column13': 'Age in years', 'Column14': 'Other installment plans', 'Column15': 'Housing', 'Column16': 'Number of existing credits at this bank', 'Column17': 'Job', 'Column18': 'Number of people being liable to provide maintenance for', 'Column19': 'Telephone', 'Column20': 'Foreign worker', 'Column21': 'Cost Matrix'}\n",
    "df_german.rename(columns=new_names, inplace=True)"
   ]
  },
  {
   "cell_type": "markdown",
   "id": "a48a3479",
   "metadata": {},
   "source": [
    "---\n"
   ]
  },
  {
   "cell_type": "code",
   "execution_count": 5,
   "id": "6303e476",
   "metadata": {},
   "outputs": [
    {
     "data": {
      "text/plain": [
       "4    476\n",
       "2    231\n",
       "3    157\n",
       "1    136\n",
       "Name: Installment rate in percentage of disposable income, dtype: int64"
      ]
     },
     "execution_count": 5,
     "metadata": {},
     "output_type": "execute_result"
    }
   ],
   "source": [
    "df_german['Installment rate in percentage of disposable income'].value_counts()"
   ]
  },
  {
   "cell_type": "code",
   "execution_count": 6,
   "id": "39dbe815",
   "metadata": {
    "scrolled": false
   },
   "outputs": [
    {
     "name": "stdout",
     "output_type": "stream",
     "text": [
      "<class 'pandas.core.frame.DataFrame'>\n",
      "RangeIndex: 1000 entries, 0 to 999\n",
      "Data columns (total 21 columns):\n",
      " #   Column                                                    Non-Null Count  Dtype \n",
      "---  ------                                                    --------------  ----- \n",
      " 0   Status Existing Checking Account                          1000 non-null   object\n",
      " 1   Duration in month                                         1000 non-null   int64 \n",
      " 2   Credit History                                            1000 non-null   object\n",
      " 3   Purpose                                                   1000 non-null   object\n",
      " 4   Credit_amount                                             1000 non-null   int64 \n",
      " 5   Savings account/bonds                                     1000 non-null   object\n",
      " 6   Present Employment Since                                  1000 non-null   object\n",
      " 7   Installment rate in percentage of disposable income       1000 non-null   int64 \n",
      " 8   Personal status and sex                                   1000 non-null   object\n",
      " 9   Other debtors/guarantors                                  1000 non-null   object\n",
      " 10  Present residence since                                   1000 non-null   int64 \n",
      " 11  Property                                                  1000 non-null   object\n",
      " 12  Age in years                                              1000 non-null   int64 \n",
      " 13  Other installment plans                                   1000 non-null   object\n",
      " 14  Housing                                                   1000 non-null   object\n",
      " 15  Number of existing credits at this bank                   1000 non-null   int64 \n",
      " 16  Job                                                       1000 non-null   object\n",
      " 17  Number of people being liable to provide maintenance for  1000 non-null   int64 \n",
      " 18  Telephone                                                 1000 non-null   object\n",
      " 19  Foreign worker                                            1000 non-null   object\n",
      " 20  Cost Matrix                                               1000 non-null   int64 \n",
      "dtypes: int64(8), object(13)\n",
      "memory usage: 164.2+ KB\n"
     ]
    }
   ],
   "source": [
    "df_german.info()"
   ]
  },
  {
   "cell_type": "code",
   "execution_count": 7,
   "id": "8c170409",
   "metadata": {},
   "outputs": [
    {
     "data": {
      "text/html": [
       "<div>\n",
       "<style scoped>\n",
       "    .dataframe tbody tr th:only-of-type {\n",
       "        vertical-align: middle;\n",
       "    }\n",
       "\n",
       "    .dataframe tbody tr th {\n",
       "        vertical-align: top;\n",
       "    }\n",
       "\n",
       "    .dataframe thead th {\n",
       "        text-align: right;\n",
       "    }\n",
       "</style>\n",
       "<table border=\"1\" class=\"dataframe\">\n",
       "  <thead>\n",
       "    <tr style=\"text-align: right;\">\n",
       "      <th></th>\n",
       "      <th>Duration in month</th>\n",
       "      <th>Credit_amount</th>\n",
       "      <th>Installment rate in percentage of disposable income</th>\n",
       "      <th>Present residence since</th>\n",
       "      <th>Age in years</th>\n",
       "      <th>Number of existing credits at this bank</th>\n",
       "      <th>Number of people being liable to provide maintenance for</th>\n",
       "      <th>Cost Matrix</th>\n",
       "    </tr>\n",
       "  </thead>\n",
       "  <tbody>\n",
       "    <tr>\n",
       "      <th>count</th>\n",
       "      <td>1000.000000</td>\n",
       "      <td>1000.000000</td>\n",
       "      <td>1000.000000</td>\n",
       "      <td>1000.000000</td>\n",
       "      <td>1000.000000</td>\n",
       "      <td>1000.000000</td>\n",
       "      <td>1000.000000</td>\n",
       "      <td>1000.000000</td>\n",
       "    </tr>\n",
       "    <tr>\n",
       "      <th>mean</th>\n",
       "      <td>20.903000</td>\n",
       "      <td>3271.258000</td>\n",
       "      <td>2.973000</td>\n",
       "      <td>2.845000</td>\n",
       "      <td>35.546000</td>\n",
       "      <td>1.407000</td>\n",
       "      <td>1.155000</td>\n",
       "      <td>1.300000</td>\n",
       "    </tr>\n",
       "    <tr>\n",
       "      <th>std</th>\n",
       "      <td>12.058814</td>\n",
       "      <td>2822.736876</td>\n",
       "      <td>1.118715</td>\n",
       "      <td>1.103718</td>\n",
       "      <td>11.375469</td>\n",
       "      <td>0.577654</td>\n",
       "      <td>0.362086</td>\n",
       "      <td>0.458487</td>\n",
       "    </tr>\n",
       "    <tr>\n",
       "      <th>min</th>\n",
       "      <td>4.000000</td>\n",
       "      <td>250.000000</td>\n",
       "      <td>1.000000</td>\n",
       "      <td>1.000000</td>\n",
       "      <td>19.000000</td>\n",
       "      <td>1.000000</td>\n",
       "      <td>1.000000</td>\n",
       "      <td>1.000000</td>\n",
       "    </tr>\n",
       "    <tr>\n",
       "      <th>25%</th>\n",
       "      <td>12.000000</td>\n",
       "      <td>1365.500000</td>\n",
       "      <td>2.000000</td>\n",
       "      <td>2.000000</td>\n",
       "      <td>27.000000</td>\n",
       "      <td>1.000000</td>\n",
       "      <td>1.000000</td>\n",
       "      <td>1.000000</td>\n",
       "    </tr>\n",
       "    <tr>\n",
       "      <th>50%</th>\n",
       "      <td>18.000000</td>\n",
       "      <td>2319.500000</td>\n",
       "      <td>3.000000</td>\n",
       "      <td>3.000000</td>\n",
       "      <td>33.000000</td>\n",
       "      <td>1.000000</td>\n",
       "      <td>1.000000</td>\n",
       "      <td>1.000000</td>\n",
       "    </tr>\n",
       "    <tr>\n",
       "      <th>75%</th>\n",
       "      <td>24.000000</td>\n",
       "      <td>3972.250000</td>\n",
       "      <td>4.000000</td>\n",
       "      <td>4.000000</td>\n",
       "      <td>42.000000</td>\n",
       "      <td>2.000000</td>\n",
       "      <td>1.000000</td>\n",
       "      <td>2.000000</td>\n",
       "    </tr>\n",
       "    <tr>\n",
       "      <th>max</th>\n",
       "      <td>72.000000</td>\n",
       "      <td>18424.000000</td>\n",
       "      <td>4.000000</td>\n",
       "      <td>4.000000</td>\n",
       "      <td>75.000000</td>\n",
       "      <td>4.000000</td>\n",
       "      <td>2.000000</td>\n",
       "      <td>2.000000</td>\n",
       "    </tr>\n",
       "  </tbody>\n",
       "</table>\n",
       "</div>"
      ],
      "text/plain": [
       "       Duration in month  Credit_amount  \\\n",
       "count        1000.000000    1000.000000   \n",
       "mean           20.903000    3271.258000   \n",
       "std            12.058814    2822.736876   \n",
       "min             4.000000     250.000000   \n",
       "25%            12.000000    1365.500000   \n",
       "50%            18.000000    2319.500000   \n",
       "75%            24.000000    3972.250000   \n",
       "max            72.000000   18424.000000   \n",
       "\n",
       "       Installment rate in percentage of disposable income  \\\n",
       "count                                        1000.000000     \n",
       "mean                                            2.973000     \n",
       "std                                             1.118715     \n",
       "min                                             1.000000     \n",
       "25%                                             2.000000     \n",
       "50%                                             3.000000     \n",
       "75%                                             4.000000     \n",
       "max                                             4.000000     \n",
       "\n",
       "       Present residence since  Age in years  \\\n",
       "count              1000.000000   1000.000000   \n",
       "mean                  2.845000     35.546000   \n",
       "std                   1.103718     11.375469   \n",
       "min                   1.000000     19.000000   \n",
       "25%                   2.000000     27.000000   \n",
       "50%                   3.000000     33.000000   \n",
       "75%                   4.000000     42.000000   \n",
       "max                   4.000000     75.000000   \n",
       "\n",
       "       Number of existing credits at this bank  \\\n",
       "count                              1000.000000   \n",
       "mean                                  1.407000   \n",
       "std                                   0.577654   \n",
       "min                                   1.000000   \n",
       "25%                                   1.000000   \n",
       "50%                                   1.000000   \n",
       "75%                                   2.000000   \n",
       "max                                   4.000000   \n",
       "\n",
       "       Number of people being liable to provide maintenance for  Cost Matrix  \n",
       "count                                        1000.000000         1000.000000  \n",
       "mean                                            1.155000            1.300000  \n",
       "std                                             0.362086            0.458487  \n",
       "min                                             1.000000            1.000000  \n",
       "25%                                             1.000000            1.000000  \n",
       "50%                                             1.000000            1.000000  \n",
       "75%                                             1.000000            2.000000  \n",
       "max                                             2.000000            2.000000  "
      ]
     },
     "execution_count": 7,
     "metadata": {},
     "output_type": "execute_result"
    }
   ],
   "source": [
    "df_german.describe()"
   ]
  },
  {
   "cell_type": "markdown",
   "id": "b57029a3",
   "metadata": {},
   "source": [
    "---\n"
   ]
  },
  {
   "cell_type": "code",
   "execution_count": 8,
   "id": "9a201e42",
   "metadata": {},
   "outputs": [],
   "source": [
    "profile = ProfileReport(df_german, title=\"Pandas Profiling Report\")\n"
   ]
  },
  {
   "cell_type": "code",
   "execution_count": 9,
   "id": "c8347a52",
   "metadata": {
    "scrolled": true
   },
   "outputs": [
    {
     "data": {
      "application/vnd.jupyter.widget-view+json": {
       "model_id": "343b8d99865546c18ecb395a8165e3ce",
       "version_major": 2,
       "version_minor": 0
      },
      "text/plain": [
       "Summarize dataset:   0%|          | 0/5 [00:00<?, ?it/s]"
      ]
     },
     "metadata": {},
     "output_type": "display_data"
    },
    {
     "data": {
      "application/vnd.jupyter.widget-view+json": {
       "model_id": "565beea4d9944a2cb3f6df3a0d275410",
       "version_major": 2,
       "version_minor": 0
      },
      "text/plain": [
       "Generate report structure:   0%|          | 0/1 [00:00<?, ?it/s]"
      ]
     },
     "metadata": {},
     "output_type": "display_data"
    },
    {
     "data": {
      "application/vnd.jupyter.widget-view+json": {
       "model_id": "",
       "version_major": 2,
       "version_minor": 0
      },
      "text/plain": [
       "Render widgets:   0%|          | 0/1 [00:00<?, ?it/s]"
      ]
     },
     "metadata": {},
     "output_type": "display_data"
    },
    {
     "data": {
      "application/vnd.jupyter.widget-view+json": {
       "model_id": "2ac549a5fad0484686f1295ec9d039bf",
       "version_major": 2,
       "version_minor": 0
      },
      "text/plain": [
       "VBox(children=(Tab(children=(Tab(children=(GridBox(children=(VBox(children=(GridspecLayout(children=(HTML(valu…"
      ]
     },
     "metadata": {},
     "output_type": "display_data"
    }
   ],
   "source": [
    "# Usado apenas para pré-visualização pessoal. Os gráficos serão gerados após.\n",
    "profile.to_widgets()\n"
   ]
  },
  {
   "cell_type": "markdown",
   "id": "0f2a88b4",
   "metadata": {},
   "source": [
    "<h1 style=\"color:#fc034e;\">Correlation between columns</h1>"
   ]
  },
  {
   "cell_type": "markdown",
   "id": "cbd44684",
   "metadata": {},
   "source": [
    "\n",
    "<p style=\"color:#2F7387;\">With this dynamics analysis, it is not clear what each column can represent for the credit value, in my opinion.<br><br>\n",
    "Using only numeric values we have got differents coorrelations.</p>"
   ]
  },
  {
   "cell_type": "markdown",
   "id": "ac98c00c",
   "metadata": {},
   "source": [
    "# Plot pandas correlation with colors\n",
    "corr = df_german.corr(numeric_only=True)\n",
    "# fig, ax = plt.subplots(figsize=(10, 10))\n",
    "colormap = sns.diverging_palette(220, 10, as_cmap=True)\n",
    "sns.heatmap(corr, cmap=colormap, annot=True, fmt=\".2f\")\n",
    "plt.xticks(range(len(corr.columns)), corr.columns, ha='center')\n",
    "plt.yticks(range(len(corr.columns)), corr.columns)\n",
    "plt.show()\n"
   ]
  },
  {
   "cell_type": "markdown",
   "id": "23415178",
   "metadata": {},
   "source": [
    "<h1 style=\"color:#fc034e;\">Credit amount distribution</h1>"
   ]
  },
  {
   "cell_type": "markdown",
   "id": "1bc48345",
   "metadata": {},
   "source": [
    "<h4 style=\"color:#fc034e;\">At first, I have checked how much credit is usually released/requested.</h4>"
   ]
  },
  {
   "cell_type": "code",
   "execution_count": 14,
   "id": "a15289ab",
   "metadata": {},
   "outputs": [
    {
     "data": {
      "image/png": "[encoded data removed]",
      "text/plain": [
       "<Figure size 720x360 with 1 Axes>"
      ]
     },
     "metadata": {
      "needs_background": "light"
     },
     "output_type": "display_data"
    }
   ],
   "source": [
    "df_german.Credit_amount.hist(bins=100, figsize=(10, 5))\n",
    "plt.ylabel('Frequency')\n",
    "plt.xlabel('Credit Amount')\n",
    "plt.show()"
   ]
  },
  {
   "cell_type": "markdown",
   "id": "bc869669",
   "metadata": {},
   "source": [
    "<h1 style=\"color:#fc034e;\">Jobs</h1>"
   ]
  },
  {
   "cell_type": "code",
   "execution_count": 15,
   "id": "1c54a105",
   "metadata": {},
   "outputs": [
    {
     "data": {
      "image/png": "[encoded data removed]",
      "text/plain": [
       "<Figure size 720x360 with 1 Axes>"
      ]
     },
     "metadata": {
      "needs_background": "light"
     },
     "output_type": "display_data"
    }
   ],
   "source": [
    "# Qual classe de trabalho tem mais pessoas nesse dataset?\n",
    "df_german['Job'].value_counts().plot(kind='bar', figsize=(10, 5), grid=True)\n",
    "plt.ylabel('People')\n",
    "plt.xlabel('Job')\n",
    "plt.title('People in each job class')\n",
    "plt.show()"
   ]
  },
  {
   "cell_type": "markdown",
   "id": "1ec2ffff",
   "metadata": {},
   "source": [
    "<h1 style=\"color:#fc034e;\">Mean age per job class</h1>"
   ]
  },
  {
   "cell_type": "code",
   "execution_count": 16,
   "id": "7c7307d3",
   "metadata": {},
   "outputs": [
    {
     "data": {
      "image/png": "[encoded data removed]",
      "text/plain": [
       "<Figure size 720x360 with 1 Axes>"
      ]
     },
     "metadata": {
      "needs_background": "light"
     },
     "output_type": "display_data"
    }
   ],
   "source": [
    "# Para cada classe de trabalhador, qual a média de idade?\n",
    "df_german.groupby('Job')['Age in years'].mean().plot(\n",
    "    kind='bar', figsize=(10, 5), grid=True)\n",
    "plt.ylabel('Mean of Age in years')\n",
    "plt.title(\"Mean of Age in years for each Job class\")\n",
    "plt.show()"
   ]
  },
  {
   "cell_type": "markdown",
   "id": "c6e2bb47",
   "metadata": {},
   "source": [
    "<h1 style=\"color:#fc034e;\">Properties per Job class</h1>"
   ]
  },
  {
   "cell_type": "code",
   "execution_count": 17,
   "id": "650f7c00",
   "metadata": {},
   "outputs": [
    {
     "ename": "NameError",
     "evalue": "name 'colormap' is not defined",
     "output_type": "error",
     "traceback": [
      "\u001b[0;31m---------------------------------------------------------------------------\u001b[0m",
      "\u001b[0;31mNameError\u001b[0m                                 Traceback (most recent call last)",
      "Input \u001b[0;32mIn [17]\u001b[0m, in \u001b[0;36m<cell line: 7>\u001b[0;34m()\u001b[0m\n\u001b[1;32m      1\u001b[0m \u001b[38;5;66;03m# What woud be the coorelation by property for each worker class?\u001b[39;00m\n\u001b[1;32m      2\u001b[0m \u001b[38;5;66;03m# Para cada classe de trabalhador, qual a relação de propriedade? Exibido em dois formatos\u001b[39;00m\n\u001b[1;32m      3\u001b[0m \n\u001b[1;32m      4\u001b[0m \u001b[38;5;66;03m# df_german.groupby('Job')['Property'].value_counts()#.plot(kind='bar', figsize=(10, 5),grid=True)\u001b[39;00m\n\u001b[1;32m      5\u001b[0m \u001b[38;5;66;03m# .plot(kind='matrix', figsize=(10, 5),grid=True)\u001b[39;00m\n\u001b[1;32m      6\u001b[0m cross \u001b[38;5;241m=\u001b[39m pd\u001b[38;5;241m.\u001b[39mcrosstab(df_german\u001b[38;5;241m.\u001b[39mJob, df_german\u001b[38;5;241m.\u001b[39mProperty)\n\u001b[0;32m----> 7\u001b[0m sns\u001b[38;5;241m.\u001b[39mheatmap(cross, cmap\u001b[38;5;241m=\u001b[39m\u001b[43mcolormap\u001b[49m, annot\u001b[38;5;241m=\u001b[39m\u001b[38;5;28;01mTrue\u001b[39;00m, fmt\u001b[38;5;241m=\u001b[39m\u001b[38;5;124m\"\u001b[39m\u001b[38;5;124m.2f\u001b[39m\u001b[38;5;124m\"\u001b[39m)  \u001b[38;5;66;03m# Matrix plot\u001b[39;00m\n\u001b[1;32m      8\u001b[0m plt\u001b[38;5;241m.\u001b[39mtitle(\u001b[38;5;124m'\u001b[39m\u001b[38;5;124mProperty frequency for each Job class\u001b[39m\u001b[38;5;124m'\u001b[39m)\n\u001b[1;32m      9\u001b[0m plt\u001b[38;5;241m.\u001b[39mshow()\n",
      "\u001b[0;31mNameError\u001b[0m: name 'colormap' is not defined"
     ]
    }
   ],
   "source": [
    "# What woud be the coorelation by property for each worker class?\n",
    "# Para cada classe de trabalhador, qual a relação de propriedade? Exibido em dois formatos\n",
    "\n",
    "# df_german.groupby('Job')['Property'].value_counts()#.plot(kind='bar', figsize=(10, 5),grid=True)\n",
    "# .plot(kind='matrix', figsize=(10, 5),grid=True)\n",
    "cross = pd.crosstab(df_german.Job, df_german.Property)\n",
    "sns.heatmap(cross, cmap=colormap, annot=True, fmt=\".2f\")  # Matrix plot\n",
    "plt.title('Property frequency for each Job class')\n",
    "plt.show()\n",
    "cross.plot(kind='bar', figsize=(10, 5), grid=True)  # bar plot\n",
    "plt.ylabel('Frequency')\n",
    "plt.title('Property frequency for each Job class')\n",
    "\n",
    "plt.show()"
   ]
  },
  {
   "cell_type": "markdown",
   "id": "d7dc83ef",
   "metadata": {},
   "source": [
    "<h1 style=\"color:#fc034e;\">JobsCredit amount per age</h1>"
   ]
  },
  {
   "cell_type": "code",
   "execution_count": 23,
   "id": "fd34a5db",
   "metadata": {},
   "outputs": [
    {
     "data": {
      "text/plain": [
       "Text(0.5, 1.0, 'Mean of Credit Amount for each Age')"
      ]
     },
     "execution_count": 23,
     "metadata": {},
     "output_type": "execute_result"
    },
    {
     "data": {
      "image/png": "[encoded data removed]",
      "text/plain": [
       "<Figure size 720x360 with 1 Axes>"
      ]
     },
     "metadata": {
      "needs_background": "light"
     },
     "output_type": "display_data"
    }
   ],
   "source": [
    "# Credit distributon by age\n",
    "df_german.groupby('Age in years')['Credit_amount'].mean().plot(kind='line', figsize=(10, 5), grid=True)\n",
    "plt.ylabel('Mean of Credit Amount')\n",
    "plt.title('Mean of Credit Amount for each Age')"
   ]
  },
  {
   "cell_type": "markdown",
   "id": "a9696627",
   "metadata": {},
   "source": [
    "<h1 style=\"color:#fc034e;\">Numeric Dataset</h1>\n"
   ]
  },
  {
   "cell_type": "code",
   "execution_count": 19,
   "id": "4381019e",
   "metadata": {},
   "outputs": [],
   "source": [
    "df_german_n = pd.read_excel('german.data-numeric-formatted.xlsx')"
   ]
  },
  {
   "cell_type": "code",
   "execution_count": 20,
   "id": "13b5e524",
   "metadata": {},
   "outputs": [],
   "source": [
    "new_names = {'Column1': 'Status Existing Checking Account', 'Column2': 'Duration in month', 'Column3': 'Credit History', 'Column4': 'Purpose', 'Column5': 'Credit_amount', 'Column6': 'Savings account/bonds', 'Column7': 'Present Employment Since', 'Column8': 'Installment rate in percentage of disposable income', 'Column9': 'Personal status and sex', 'Column10': 'Other debtors/guarantors',\n",
    "             'Column11': 'Present residence since', 'Column12': 'Property', 'Column13': 'Age in years', 'Column14': 'Other installment plans', 'Column15': 'Housing', 'Column16': 'Number of existing credits at this bank', 'Column17': 'Job', 'Column18': 'Number of people being liable to provide maintenance for', 'Column19': 'Telephone', 'Column20': 'Foreign worker', 'Column21': 'Cost Matrix'}\n",
    "df_german_n.rename(columns=new_names, inplace=True)"
   ]
  },
  {
   "cell_type": "code",
   "execution_count": 21,
   "id": "9c1214a0",
   "metadata": {},
   "outputs": [
    {
     "data": {
      "text/html": [
       "<div>\n",
       "<style scoped>\n",
       "    .dataframe tbody tr th:only-of-type {\n",
       "        vertical-align: middle;\n",
       "    }\n",
       "\n",
       "    .dataframe tbody tr th {\n",
       "        vertical-align: top;\n",
       "    }\n",
       "\n",
       "    .dataframe thead th {\n",
       "        text-align: right;\n",
       "    }\n",
       "</style>\n",
       "<table border=\"1\" class=\"dataframe\">\n",
       "  <thead>\n",
       "    <tr style=\"text-align: right;\">\n",
       "      <th></th>\n",
       "      <th>Status Existing Checking Account</th>\n",
       "      <th>Duration in month</th>\n",
       "      <th>Credit History</th>\n",
       "      <th>Purpose</th>\n",
       "      <th>Credit_amount</th>\n",
       "      <th>Savings account/bonds</th>\n",
       "      <th>Present Employment Since</th>\n",
       "      <th>Installment rate in percentage of disposable income</th>\n",
       "      <th>Personal status and sex</th>\n",
       "      <th>Other debtors/guarantors</th>\n",
       "      <th>...</th>\n",
       "      <th>Number of people being liable to provide maintenance for</th>\n",
       "      <th>Telephone</th>\n",
       "      <th>Foreign worker</th>\n",
       "      <th>Cost Matrix</th>\n",
       "      <th>Column22</th>\n",
       "      <th>Column23</th>\n",
       "      <th>Column24</th>\n",
       "      <th>Column25</th>\n",
       "      <th>Column26</th>\n",
       "      <th>Column27</th>\n",
       "    </tr>\n",
       "  </thead>\n",
       "  <tbody>\n",
       "    <tr>\n",
       "      <th>0</th>\n",
       "      <td>NaN</td>\n",
       "      <td>1</td>\n",
       "      <td>6</td>\n",
       "      <td>4</td>\n",
       "      <td>12</td>\n",
       "      <td>5</td>\n",
       "      <td>5</td>\n",
       "      <td>3</td>\n",
       "      <td>4</td>\n",
       "      <td>1</td>\n",
       "      <td>...</td>\n",
       "      <td>0</td>\n",
       "      <td>1</td>\n",
       "      <td>0</td>\n",
       "      <td>0</td>\n",
       "      <td>1</td>\n",
       "      <td>0</td>\n",
       "      <td>0</td>\n",
       "      <td>1</td>\n",
       "      <td>1</td>\n",
       "      <td>NaN</td>\n",
       "    </tr>\n",
       "    <tr>\n",
       "      <th>1</th>\n",
       "      <td>NaN</td>\n",
       "      <td>2</td>\n",
       "      <td>48</td>\n",
       "      <td>2</td>\n",
       "      <td>60</td>\n",
       "      <td>1</td>\n",
       "      <td>3</td>\n",
       "      <td>2</td>\n",
       "      <td>2</td>\n",
       "      <td>1</td>\n",
       "      <td>...</td>\n",
       "      <td>0</td>\n",
       "      <td>1</td>\n",
       "      <td>0</td>\n",
       "      <td>0</td>\n",
       "      <td>1</td>\n",
       "      <td>0</td>\n",
       "      <td>0</td>\n",
       "      <td>1</td>\n",
       "      <td>2</td>\n",
       "      <td>NaN</td>\n",
       "    </tr>\n",
       "    <tr>\n",
       "      <th>2</th>\n",
       "      <td>NaN</td>\n",
       "      <td>4</td>\n",
       "      <td>12</td>\n",
       "      <td>4</td>\n",
       "      <td>21</td>\n",
       "      <td>1</td>\n",
       "      <td>4</td>\n",
       "      <td>3</td>\n",
       "      <td>3</td>\n",
       "      <td>1</td>\n",
       "      <td>...</td>\n",
       "      <td>0</td>\n",
       "      <td>1</td>\n",
       "      <td>0</td>\n",
       "      <td>0</td>\n",
       "      <td>1</td>\n",
       "      <td>0</td>\n",
       "      <td>1</td>\n",
       "      <td>0</td>\n",
       "      <td>1</td>\n",
       "      <td>NaN</td>\n",
       "    </tr>\n",
       "  </tbody>\n",
       "</table>\n",
       "<p>3 rows × 27 columns</p>\n",
       "</div>"
      ],
      "text/plain": [
       "   Status Existing Checking Account  Duration in month  Credit History  \\\n",
       "0                               NaN                  1               6   \n",
       "1                               NaN                  2              48   \n",
       "2                               NaN                  4              12   \n",
       "\n",
       "   Purpose  Credit_amount  Savings account/bonds  Present Employment Since  \\\n",
       "0        4             12                      5                         5   \n",
       "1        2             60                      1                         3   \n",
       "2        4             21                      1                         4   \n",
       "\n",
       "   Installment rate in percentage of disposable income  \\\n",
       "0                                                  3     \n",
       "1                                                  2     \n",
       "2                                                  3     \n",
       "\n",
       "   Personal status and sex  Other debtors/guarantors  ...  \\\n",
       "0                        4                         1  ...   \n",
       "1                        2                         1  ...   \n",
       "2                        3                         1  ...   \n",
       "\n",
       "   Number of people being liable to provide maintenance for  Telephone  \\\n",
       "0                                                  0                 1   \n",
       "1                                                  0                 1   \n",
       "2                                                  0                 1   \n",
       "\n",
       "   Foreign worker  Cost Matrix  Column22  Column23  Column24  Column25  \\\n",
       "0               0            0         1         0         0         1   \n",
       "1               0            0         1         0         0         1   \n",
       "2               0            0         1         0         1         0   \n",
       "\n",
       "   Column26  Column27  \n",
       "0         1       NaN  \n",
       "1         2       NaN  \n",
       "2         1       NaN  \n",
       "\n",
       "[3 rows x 27 columns]"
      ]
     },
     "execution_count": 21,
     "metadata": {},
     "output_type": "execute_result"
    }
   ],
   "source": [
    "# Numerical Dataset\n",
    "df_german_n.head(3)"
   ]
  },
  {
   "cell_type": "markdown",
   "id": "1314a705",
   "metadata": {},
   "source": [
    "<p style=\"color:#b603fc;\">Dropping the attribute \"Status Existing Checking Account\" because there is just NAN</p>\n"
   ]
  },
  {
   "cell_type": "markdown",
   "id": "fa3f75b5",
   "metadata": {},
   "source": [
    "Não use implace. Prefira `df=df.drop` ou qualquer outra função de alteração para melhor legibilidade.\n"
   ]
  },
  {
   "cell_type": "code",
   "execution_count": null,
   "id": "fe6a9537",
   "metadata": {},
   "outputs": [],
   "source": [
    "df_german_n = df_german_n.drop(columns=['Status Existing Checking Account', 'Column22', 'Column23',\n",
    "                                        'Column24', 'Column25', 'Column26', 'Column27'])\n"
   ]
  },
  {
   "cell_type": "code",
   "execution_count": null,
   "id": "2a84c36b",
   "metadata": {},
   "outputs": [],
   "source": [
    "# Numerical Dataset\n",
    "df_german_n.head(3)\n"
   ]
  },
  {
   "cell_type": "code",
   "execution_count": null,
   "id": "2aa5c1ee",
   "metadata": {},
   "outputs": [],
   "source": [
    "profile = ProfileReport(df_german_n, title=\"Pandas Profiling Report\")\n"
   ]
  },
  {
   "cell_type": "code",
   "execution_count": null,
   "id": "37c91c99",
   "metadata": {},
   "outputs": [],
   "source": [
    "profile.to_widgets()\n"
   ]
  },
  {
   "cell_type": "markdown",
   "id": "11bb9cfc",
   "metadata": {},
   "source": [
    "<p style=\"color:#b603fc;\">Now we can identify there are some differences from the original dataset and the numeric one. </p>\n"
   ]
  },
  {
   "cell_type": "code",
   "execution_count": null,
   "id": "b40f19bb",
   "metadata": {},
   "outputs": [],
   "source": [
    "df_german_n.info()\n"
   ]
  }
 ],
 "metadata": {
  "kernelspec": {
   "display_name": "Python 3 (ipykernel)",
   "language": "python",
   "name": "python3"
  },
  "language_info": {
   "codemirror_mode": {
    "name": "ipython",
    "version": 3
   },
   "file_extension": ".py",
   "mimetype": "text/x-python",
   "name": "python",
   "nbconvert_exporter": "python",
   "pygments_lexer": "ipython3",
   "version": "3.9.12"
  }
 },
 "nbformat": 4,
 "nbformat_minor": 5
}
